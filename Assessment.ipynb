{
 "cells": [
  {
   "cell_type": "markdown",
   "id": "07f0c243",
   "metadata": {},
   "source": [
    "# Question 3"
   ]
  },
  {
   "cell_type": "code",
   "execution_count": 36,
   "id": "ade6d018",
   "metadata": {},
   "outputs": [],
   "source": [
    "import pandas as pd\n",
    "import numpy as np\n",
    "import matplotlib.pyplot as plt\n",
    "import seaborn as sns\n",
    "import warnings\n",
    "warnings.filterwarnings('ignore')  #importing libraries"
   ]
  },
  {
   "cell_type": "code",
   "execution_count": 5,
   "id": "ecd346a6",
   "metadata": {},
   "outputs": [],
   "source": [
    "df = pd.read_csv('training_data.csv')  #reading csv file"
   ]
  },
  {
   "cell_type": "code",
   "execution_count": 7,
   "id": "80ad5d2c",
   "metadata": {},
   "outputs": [],
   "source": [
    "col_name = ['timeforcharge','voltage','batterylasted']   #declaring columns names"
   ]
  },
  {
   "cell_type": "code",
   "execution_count": 8,
   "id": "fa2af510",
   "metadata": {},
   "outputs": [],
   "source": [
    "df.columns = col_name  #giving columns name"
   ]
  },
  {
   "cell_type": "code",
   "execution_count": 9,
   "id": "35de65ec",
   "metadata": {},
   "outputs": [
    {
     "data": {
      "text/html": [
       "<div>\n",
       "<style scoped>\n",
       "    .dataframe tbody tr th:only-of-type {\n",
       "        vertical-align: middle;\n",
       "    }\n",
       "\n",
       "    .dataframe tbody tr th {\n",
       "        vertical-align: top;\n",
       "    }\n",
       "\n",
       "    .dataframe thead th {\n",
       "        text-align: right;\n",
       "    }\n",
       "</style>\n",
       "<table border=\"1\" class=\"dataframe\">\n",
       "  <thead>\n",
       "    <tr style=\"text-align: right;\">\n",
       "      <th></th>\n",
       "      <th>timeforcharge</th>\n",
       "      <th>voltage</th>\n",
       "      <th>batterylasted</th>\n",
       "    </tr>\n",
       "  </thead>\n",
       "  <tbody>\n",
       "    <tr>\n",
       "      <th>0</th>\n",
       "      <td>7.14</td>\n",
       "      <td>220</td>\n",
       "      <td>8.00</td>\n",
       "    </tr>\n",
       "    <tr>\n",
       "      <th>1</th>\n",
       "      <td>2.72</td>\n",
       "      <td>220</td>\n",
       "      <td>5.44</td>\n",
       "    </tr>\n",
       "    <tr>\n",
       "      <th>2</th>\n",
       "      <td>3.87</td>\n",
       "      <td>220</td>\n",
       "      <td>7.74</td>\n",
       "    </tr>\n",
       "    <tr>\n",
       "      <th>3</th>\n",
       "      <td>1.90</td>\n",
       "      <td>220</td>\n",
       "      <td>3.80</td>\n",
       "    </tr>\n",
       "    <tr>\n",
       "      <th>4</th>\n",
       "      <td>7.82</td>\n",
       "      <td>220</td>\n",
       "      <td>8.00</td>\n",
       "    </tr>\n",
       "  </tbody>\n",
       "</table>\n",
       "</div>"
      ],
      "text/plain": [
       "   timeforcharge  voltage  batterylasted\n",
       "0           7.14      220           8.00\n",
       "1           2.72      220           5.44\n",
       "2           3.87      220           7.74\n",
       "3           1.90      220           3.80\n",
       "4           7.82      220           8.00"
      ]
     },
     "execution_count": 9,
     "metadata": {},
     "output_type": "execute_result"
    }
   ],
   "source": [
    "df.head()"
   ]
  },
  {
   "cell_type": "code",
   "execution_count": 10,
   "id": "98f7a7fd",
   "metadata": {},
   "outputs": [
    {
     "data": {
      "text/plain": [
       "array([220], dtype=int64)"
      ]
     },
     "execution_count": 10,
     "metadata": {},
     "output_type": "execute_result"
    }
   ],
   "source": [
    "df['voltage'].unique()  #voltage column has only one value"
   ]
  },
  {
   "cell_type": "code",
   "execution_count": 11,
   "id": "fcda5aff",
   "metadata": {},
   "outputs": [
    {
     "data": {
      "text/plain": [
       "timeforcharge    float64\n",
       "voltage            int64\n",
       "batterylasted    float64\n",
       "dtype: object"
      ]
     },
     "execution_count": 11,
     "metadata": {},
     "output_type": "execute_result"
    }
   ],
   "source": [
    "df.dtypes  "
   ]
  },
  {
   "cell_type": "code",
   "execution_count": 14,
   "id": "d115d7af",
   "metadata": {},
   "outputs": [
    {
     "data": {
      "text/plain": [
       "4.59"
      ]
     },
     "execution_count": 14,
     "metadata": {},
     "output_type": "execute_result"
    }
   ],
   "source": [
    "round(df['timeforcharge'].mean(),2)  #mean value of charging time is 4.59 unit time"
   ]
  },
  {
   "cell_type": "code",
   "execution_count": 15,
   "id": "c421090a",
   "metadata": {},
   "outputs": [
    {
     "data": {
      "image/png": "[encoded data removed]",
      "text/plain": [
       "<Figure size 432x288 with 1 Axes>"
      ]
     },
     "metadata": {
      "needs_background": "light"
     },
     "output_type": "display_data"
    }
   ],
   "source": [
    "#univariate Analysis\n",
    "df['timeforcharge'].hist(bins=10)\n",
    "plt.show()       # for 1-2 unit time laptop is being charged and ranges from o to approx. 11 "
   ]
  },
  {
   "cell_type": "code",
   "execution_count": 16,
   "id": "c2c8a1d1",
   "metadata": {},
   "outputs": [
    {
     "data": {
      "image/png": "[encoded data removed]",
      "text/plain": [
       "<Figure size 432x288 with 1 Axes>"
      ]
     },
     "metadata": {
      "needs_background": "light"
     },
     "output_type": "display_data"
    },
    {
     "data": {
      "image/png": "[encoded data removed]",
      "text/plain": [
       "<Figure size 432x288 with 1 Axes>"
      ]
     },
     "metadata": {
      "needs_background": "light"
     },
     "output_type": "display_data"
    },
    {
     "data": {
      "image/png": "[encoded data removed]",
      "text/plain": [
       "<Figure size 432x288 with 1 Axes>"
      ]
     },
     "metadata": {
      "needs_background": "light"
     },
     "output_type": "display_data"
    }
   ],
   "source": [
    "#bivariate Analysis\n",
    "for i in df.columns:\n",
    "    sns.scatterplot(x='batterylasted',y=i,data=df)\n",
    "    plt.show() \n",
    "#observations:\n",
    "#Battery won't sustain for more than 8 hours \n",
    "#time of charging is positively correlated with battery\n",
    "#voltage shows horizontal graph meaning r=0 and both the variables are independent of each other"
   ]
  },
  {
   "cell_type": "code",
   "execution_count": 17,
   "id": "bd446dda",
   "metadata": {},
   "outputs": [
    {
     "data": {
      "text/plain": [
       "<AxesSubplot:>"
      ]
     },
     "execution_count": 17,
     "metadata": {},
     "output_type": "execute_result"
    },
    {
     "data": {
      "image/png": "[encoded data removed]",
      "text/plain": [
       "<Figure size 432x288 with 1 Axes>"
      ]
     },
     "metadata": {
      "needs_background": "light"
     },
     "output_type": "display_data"
    }
   ],
   "source": [
    "df.boxplot('timeforcharge')"
   ]
  },
  {
   "cell_type": "code",
   "execution_count": 19,
   "id": "c03badb6",
   "metadata": {},
   "outputs": [],
   "source": [
    "df.drop('voltage',axis=1,inplace=True)  #dropping of voltage variable "
   ]
  },
  {
   "cell_type": "code",
   "execution_count": 20,
   "id": "467b2b38",
   "metadata": {},
   "outputs": [],
   "source": [
    "from sklearn.model_selection import train_test_split\n",
    "from sklearn.linear_model import LinearRegression\n"
   ]
  },
  {
   "cell_type": "code",
   "execution_count": 21,
   "id": "b1d13a7d",
   "metadata": {},
   "outputs": [],
   "source": [
    "x_train,x_test,y_train,y_test = train_test_split(df['timeforcharge'],df['batterylasted'],test_size=.33) #splitting the data in train test"
   ]
  },
  {
   "cell_type": "code",
   "execution_count": 27,
   "id": "6cc2237c",
   "metadata": {},
   "outputs": [
    {
     "data": {
      "text/plain": [
       "LinearRegression()"
      ]
     },
     "execution_count": 27,
     "metadata": {},
     "output_type": "execute_result"
    }
   ],
   "source": [
    "lr = LinearRegression()\n",
    "\n",
    "lr.fit(x_train.to_numpy().reshape(-1, 1), y_train.to_numpy())  #fitting the model"
   ]
  },
  {
   "cell_type": "code",
   "execution_count": 30,
   "id": "d7d49ef0",
   "metadata": {},
   "outputs": [],
   "source": [
    "predict = lr.predict(x_test.to_numpy().reshape(-1, 1))\n"
   ]
  },
  {
   "cell_type": "code",
   "execution_count": 31,
   "id": "a7a8ba36",
   "metadata": {},
   "outputs": [
    {
     "data": {
      "text/plain": [
       "0.5860094044228635"
      ]
     },
     "execution_count": 31,
     "metadata": {},
     "output_type": "execute_result"
    }
   ],
   "source": [
    "from sklearn.metrics import r2_score\n",
    "r2_score(predict,y_test.to_numpy().reshape(-1, 1))"
   ]
  },
  {
   "cell_type": "code",
   "execution_count": 33,
   "id": "6b961502",
   "metadata": {},
   "outputs": [],
   "source": [
    "from sklearn.svm import SVR\n",
    "from sklearn.tree import DecisionTreeRegressor\n",
    "from sklearn.neighbors import KNeighborsRegressor\n"
   ]
  },
  {
   "cell_type": "code",
   "execution_count": 41,
   "id": "f33cbb90",
   "metadata": {},
   "outputs": [
    {
     "name": "stdout",
     "output_type": "stream",
     "text": [
      "r2 score 0.9975470070928282\n",
      "cross score nan\n"
     ]
    },
    {
     "data": {
      "text/plain": [
       "<AxesSubplot:xlabel='batterylasted'>"
      ]
     },
     "execution_count": 41,
     "metadata": {},
     "output_type": "execute_result"
    },
    {
     "data": {
      "image/png": "[encoded data removed]",
      "text/plain": [
       "<Figure size 432x288 with 1 Axes>"
      ]
     },
     "metadata": {
      "needs_background": "light"
     },
     "output_type": "display_data"
    }
   ],
   "source": [
    "obj_dt = DecisionTreeRegressor()\n",
    "obj_dt.fit(x_train.to_numpy().reshape(-1, 1),y_train.to_numpy().reshape(-1, 1))\n",
    "p=obj_dt.predict(x_test.to_numpy().reshape(-1, 1))\n",
    "\n",
    "print(\"r2 score\",r2_score(p,y_test))\n",
    "print('cross score',cross_val.mean())\n",
    "sns.regplot(x=y_test, y=p, data=df)  #best result is given by this model "
   ]
  },
  {
   "cell_type": "code",
   "execution_count": 40,
   "id": "7277dc08",
   "metadata": {},
   "outputs": [
    {
     "name": "stdout",
     "output_type": "stream",
     "text": [
      "r2 score 0.98688245017991\n",
      "cross score nan\n"
     ]
    },
    {
     "data": {
      "text/plain": [
       "<AxesSubplot:xlabel='batterylasted'>"
      ]
     },
     "execution_count": 40,
     "metadata": {},
     "output_type": "execute_result"
    },
    {
     "data": {
      "image/png": "[encoded data removed]",
      "text/plain": [
       "<Figure size 432x288 with 1 Axes>"
      ]
     },
     "metadata": {
      "needs_background": "light"
     },
     "output_type": "display_data"
    }
   ],
   "source": [
    "obj_ = KNeighborsRegressor()\n",
    "obj_.fit(x_train.to_numpy().reshape(-1, 1),y_train.to_numpy().reshape(-1, 1))\n",
    "p=obj_.predict(x_test.to_numpy().reshape(-1, 1))\n",
    "print(\"r2 score\",r2_score(p,y_test.to_numpy().reshape(-1, 1)))\n",
    "print('cross score',cross_val.mean())\n",
    "sns.regplot(x=y_test, y=p, data=df)"
   ]
  },
  {
   "cell_type": "code",
   "execution_count": 43,
   "id": "8f69bbe3",
   "metadata": {},
   "outputs": [],
   "source": [
    "import pickle\n",
    "time_pred = 'time.pkl'\n",
    "pickle.dump(obj_dt,open(time_pred,'wb'))    #saving best model"
   ]
  },
  {
   "cell_type": "code",
   "execution_count": 45,
   "id": "c3c66d3b",
   "metadata": {},
   "outputs": [
    {
     "data": {
      "text/html": [
       "<div>\n",
       "<style scoped>\n",
       "    .dataframe tbody tr th:only-of-type {\n",
       "        vertical-align: middle;\n",
       "    }\n",
       "\n",
       "    .dataframe tbody tr th {\n",
       "        vertical-align: top;\n",
       "    }\n",
       "\n",
       "    .dataframe thead th {\n",
       "        text-align: right;\n",
       "    }\n",
       "</style>\n",
       "<table border=\"1\" class=\"dataframe\">\n",
       "  <thead>\n",
       "    <tr style=\"text-align: right;\">\n",
       "      <th></th>\n",
       "      <th>0</th>\n",
       "    </tr>\n",
       "  </thead>\n",
       "  <tbody>\n",
       "    <tr>\n",
       "      <th>0</th>\n",
       "      <td>8.00</td>\n",
       "    </tr>\n",
       "    <tr>\n",
       "      <th>1</th>\n",
       "      <td>6.90</td>\n",
       "    </tr>\n",
       "    <tr>\n",
       "      <th>2</th>\n",
       "      <td>8.00</td>\n",
       "    </tr>\n",
       "    <tr>\n",
       "      <th>3</th>\n",
       "      <td>8.00</td>\n",
       "    </tr>\n",
       "    <tr>\n",
       "      <th>4</th>\n",
       "      <td>8.00</td>\n",
       "    </tr>\n",
       "    <tr>\n",
       "      <th>5</th>\n",
       "      <td>8.00</td>\n",
       "    </tr>\n",
       "    <tr>\n",
       "      <th>6</th>\n",
       "      <td>8.00</td>\n",
       "    </tr>\n",
       "    <tr>\n",
       "      <th>7</th>\n",
       "      <td>8.00</td>\n",
       "    </tr>\n",
       "    <tr>\n",
       "      <th>8</th>\n",
       "      <td>8.00</td>\n",
       "    </tr>\n",
       "    <tr>\n",
       "      <th>9</th>\n",
       "      <td>8.00</td>\n",
       "    </tr>\n",
       "    <tr>\n",
       "      <th>10</th>\n",
       "      <td>8.00</td>\n",
       "    </tr>\n",
       "    <tr>\n",
       "      <th>11</th>\n",
       "      <td>8.00</td>\n",
       "    </tr>\n",
       "    <tr>\n",
       "      <th>12</th>\n",
       "      <td>4.32</td>\n",
       "    </tr>\n",
       "    <tr>\n",
       "      <th>13</th>\n",
       "      <td>8.00</td>\n",
       "    </tr>\n",
       "    <tr>\n",
       "      <th>14</th>\n",
       "      <td>8.00</td>\n",
       "    </tr>\n",
       "    <tr>\n",
       "      <th>15</th>\n",
       "      <td>8.00</td>\n",
       "    </tr>\n",
       "    <tr>\n",
       "      <th>16</th>\n",
       "      <td>1.60</td>\n",
       "    </tr>\n",
       "    <tr>\n",
       "      <th>17</th>\n",
       "      <td>8.00</td>\n",
       "    </tr>\n",
       "    <tr>\n",
       "      <th>18</th>\n",
       "      <td>8.00</td>\n",
       "    </tr>\n",
       "    <tr>\n",
       "      <th>19</th>\n",
       "      <td>5.16</td>\n",
       "    </tr>\n",
       "    <tr>\n",
       "      <th>20</th>\n",
       "      <td>7.54</td>\n",
       "    </tr>\n",
       "    <tr>\n",
       "      <th>21</th>\n",
       "      <td>8.00</td>\n",
       "    </tr>\n",
       "    <tr>\n",
       "      <th>22</th>\n",
       "      <td>8.00</td>\n",
       "    </tr>\n",
       "    <tr>\n",
       "      <th>23</th>\n",
       "      <td>0.00</td>\n",
       "    </tr>\n",
       "    <tr>\n",
       "      <th>24</th>\n",
       "      <td>8.00</td>\n",
       "    </tr>\n",
       "    <tr>\n",
       "      <th>25</th>\n",
       "      <td>7.06</td>\n",
       "    </tr>\n",
       "    <tr>\n",
       "      <th>26</th>\n",
       "      <td>4.32</td>\n",
       "    </tr>\n",
       "    <tr>\n",
       "      <th>27</th>\n",
       "      <td>7.94</td>\n",
       "    </tr>\n",
       "    <tr>\n",
       "      <th>28</th>\n",
       "      <td>6.94</td>\n",
       "    </tr>\n",
       "    <tr>\n",
       "      <th>29</th>\n",
       "      <td>5.16</td>\n",
       "    </tr>\n",
       "    <tr>\n",
       "      <th>30</th>\n",
       "      <td>8.00</td>\n",
       "    </tr>\n",
       "    <tr>\n",
       "      <th>31</th>\n",
       "      <td>5.16</td>\n",
       "    </tr>\n",
       "    <tr>\n",
       "      <th>32</th>\n",
       "      <td>8.00</td>\n",
       "    </tr>\n",
       "  </tbody>\n",
       "</table>\n",
       "</div>"
      ],
      "text/plain": [
       "       0\n",
       "0   8.00\n",
       "1   6.90\n",
       "2   8.00\n",
       "3   8.00\n",
       "4   8.00\n",
       "5   8.00\n",
       "6   8.00\n",
       "7   8.00\n",
       "8   8.00\n",
       "9   8.00\n",
       "10  8.00\n",
       "11  8.00\n",
       "12  4.32\n",
       "13  8.00\n",
       "14  8.00\n",
       "15  8.00\n",
       "16  1.60\n",
       "17  8.00\n",
       "18  8.00\n",
       "19  5.16\n",
       "20  7.54\n",
       "21  8.00\n",
       "22  8.00\n",
       "23  0.00\n",
       "24  8.00\n",
       "25  7.06\n",
       "26  4.32\n",
       "27  7.94\n",
       "28  6.94\n",
       "29  5.16\n",
       "30  8.00\n",
       "31  5.16\n",
       "32  8.00"
      ]
     },
     "execution_count": 45,
     "metadata": {},
     "output_type": "execute_result"
    }
   ],
   "source": [
    "model_load = pickle.load(open(time_pred,'rb'))   #loading the model to predict the result for testing data\n",
    "pred_test = model_load.predict(y_test.to_numpy().reshape(-1,1))\n",
    "pred_test=pd.DataFrame(pred_test)\n",
    "pred_test   #predicted values"
   ]
  },
  {
   "cell_type": "markdown",
   "id": "cb0424c2",
   "metadata": {},
   "source": [
    "I have only used r2 score in the performance matrix as this is univariate linear regression problem\n",
    "Future scope:\n",
    "Number of independent variable would be helpful to predict the y "
   ]
  },
  {
   "cell_type": "markdown",
   "id": "00b455c1",
   "metadata": {},
   "source": [
    "# Question 2"
   ]
  },
  {
   "cell_type": "code",
   "execution_count": 10,
   "id": "aea8d654",
   "metadata": {},
   "outputs": [],
   "source": [
    "def howmanygames(p,d,m,s):\n",
    "    p1=p\n",
    "    l=[p]\n",
    "    n=1\n",
    "    while(p1>0):\n",
    "        k=p1-d\n",
    "        if(k>m):\n",
    "            n=n+1\n",
    "            l.append(k)\n",
    "            p1=p1-d\n",
    "        else:\n",
    "            p1=p1-d\n",
    "    finallist = []\n",
    "    finallist.append(n)\n",
    "    finallist.append(l)\n",
    "    print(finallist)\n",
    "        \n",
    "#time complexity would depend on the value of d (how many times thw while loop will run)    \n",
    "#However it would be :\n",
    "# O(log2(p1) + o(1))"
   ]
  },
  {
   "cell_type": "code",
   "execution_count": 11,
   "id": "9e8d5f82",
   "metadata": {},
   "outputs": [
    {
     "name": "stdout",
     "output_type": "stream",
     "text": [
      "[5, [20, 17, 14, 11, 8]]\n"
     ]
    }
   ],
   "source": [
    "howmanygames(20,3,6,70)"
   ]
  },
  {
   "cell_type": "markdown",
   "id": "f8725875",
   "metadata": {},
   "source": [
    "# Question 1"
   ]
  },
  {
   "cell_type": "code",
   "execution_count": 46,
   "id": "6cb24f87",
   "metadata": {},
   "outputs": [],
   "source": [
    "words = pd.read_csv('dictionary.csv')"
   ]
  },
  {
   "cell_type": "code",
   "execution_count": 48,
   "id": "5ff1a455",
   "metadata": {},
   "outputs": [],
   "source": [
    "words = words.to_numpy()"
   ]
  },
  {
   "cell_type": "code",
   "execution_count": 49,
   "id": "26da796f",
   "metadata": {},
   "outputs": [
    {
     "data": {
      "text/plain": [
       "array([['aah'],\n",
       "       ['aahed'],\n",
       "       ['aahing'],\n",
       "       ...,\n",
       "       ['zymurgy'],\n",
       "       ['zyzzyva'],\n",
       "       ['zyzzyvas']], dtype=object)"
      ]
     },
     "execution_count": 49,
     "metadata": {},
     "output_type": "execute_result"
    }
   ],
   "source": []
  },
  {
   "cell_type": "code",
   "execution_count": null,
   "id": "b9357208",
   "metadata": {},
   "outputs": [],
   "source": []
  }
 ],
 "metadata": {
  "kernelspec": {
   "display_name": "Python 3 (ipykernel)",
   "language": "python",
   "name": "python3"
  },
  "language_info": {
   "codemirror_mode": {
    "name": "ipython",
    "version": 3
   },
   "file_extension": ".py",
   "mimetype": "text/x-python",
   "name": "python",
   "nbconvert_exporter": "python",
   "pygments_lexer": "ipython3",
   "version": "3.9.7"
  }
 },
 "nbformat": 4,
 "nbformat_minor": 5
}
